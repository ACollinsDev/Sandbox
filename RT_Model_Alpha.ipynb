{
  "nbformat": 4,
  "nbformat_minor": 0,
  "metadata": {
    "colab": {
      "name": "RT_Model_Alpha",
      "version": "0.3.2",
      "provenance": [],
      "collapsed_sections": [],
      "include_colab_link": true
    },
    "kernelspec": {
      "name": "python3",
      "display_name": "Python 3"
    },
    "accelerator": "GPU"
  },
  "cells": [
    {
      "cell_type": "markdown",
      "metadata": {
        "id": "view-in-github",
        "colab_type": "text"
      },
      "source": [
        "<a href=\"https://colab.research.google.com/github/ACollinsDev/Sandbox/blob/master/RT_Model_Alpha.ipynb\" target=\"_parent\"><img src=\"https://colab.research.google.com/assets/colab-badge.svg\" alt=\"Open In Colab\"/></a>"
      ]
    },
    {
      "cell_type": "markdown",
      "metadata": {
        "id": "7q0XRrtj53cf",
        "colab_type": "text"
      },
      "source": [
        ""
      ]
    },
    {
      "cell_type": "markdown",
      "metadata": {
        "id": "xUxqfC0_55e2",
        "colab_type": "text"
      },
      "source": [
        "# Check GPU RAM allocated"
      ]
    },
    {
      "cell_type": "code",
      "metadata": {
        "id": "ZarBBFbc52Fd",
        "colab_type": "code",
        "colab": {}
      },
      "source": [
        "# memory footprint support libraries/code\n",
        "#!ln -sf /opt/bin/nvidia-smi /usr/bin/nvidia-smi\n",
        "#!pip install gputil\n",
        "#!pip install psutil\n",
        "#!pip install humanize\n",
        "#import psutil\n",
        "#import humanize\n",
        "#import os\n",
        "#import GPUtil as GPU\n",
        "#GPUs = GPU.getGPUs()\n",
        "#XXX: only one GPU on Colab and isn’t guaranteed\n",
        "#gpu = GPUs[0]\n",
        "#def printm():\n",
        "#    process = psutil.Process(os.getpid())\n",
        "#    print(\"Gen RAM Free: \" + humanize.naturalsize( psutil.virtual_memory().available ), \" | Proc size: \" + humanize.naturalsize( process.memory_info().rss))\n",
        "#    print(\"GPU RAM Free: {0:.0f}MB | Used: {1:.0f}MB | Util {2:3.0f}% | Total {3:.0f}MB\".format(gpu.memoryFree, gpu.memoryUsed, gpu.memoryUtil*100, gpu.memoryTotal))\n",
        "#printm()"
      ],
      "execution_count": 0,
      "outputs": []
    },
    {
      "cell_type": "markdown",
      "metadata": {
        "id": "Eg4ujN4K8gyx",
        "colab_type": "text"
      },
      "source": [
        "# Check TPU Specifications (if activated)"
      ]
    },
    {
      "cell_type": "code",
      "metadata": {
        "id": "HN9HOxUV8l5b",
        "colab_type": "code",
        "colab": {}
      },
      "source": [
        "#import os\n",
        "#import pprint\n",
        "#import tensorflow as tf\n",
        "\n",
        "#if 'COLAB_TPU_ADDR' not in os.environ:\n",
        "#    print('ERROR: Not connected to a TPU runtime; please see the first cell in this notebook for instructions!')\n",
        "#else:\n",
        "#    tpu_address = 'grpc://' + os.environ['COLAB_TPU_ADDR']\n",
        "#    print ('TPU address is', tpu_address)\n",
        "\n",
        "#    with tf.Session(tpu_address) as session:\n",
        "#        devices = session.list_devices()\n",
        "    \n",
        "#    print('TPU devices:')\n",
        "#    pprint.pprint(devices)"
      ],
      "execution_count": 0,
      "outputs": []
    },
    {
      "cell_type": "markdown",
      "metadata": {
        "id": "eWLhnZmhtwmr",
        "colab_type": "text"
      },
      "source": [
        "**Configure TPU**"
      ]
    },
    {
      "cell_type": "code",
      "metadata": {
        "id": "qsknx0EftwT-",
        "colab_type": "code",
        "colab": {}
      },
      "source": [
        "#use_tpu = True #@param {type:\"boolean\"}\n",
        "\n",
        "#if use_tpu:\n",
        "#    assert 'COLAB_TPU_ADDR' in os.environ, 'Missing TPU; did you request a TPU in Notebook Settings?'\n",
        "\n",
        "#if 'COLAB_TPU_ADDR' in os.environ:\n",
        "#  TF_MASTER = 'grpc://{}'.format(os.environ['COLAB_TPU_ADDR'])\n",
        "#else:\n",
        "#  TF_MASTER=''\n",
        "\n",
        "#with tf.Session(TF_MASTER) as session:\n",
        "#  print ('List of devices:')\n",
        "#  pprint.pprint(session.list_devices())"
      ],
      "execution_count": 0,
      "outputs": []
    },
    {
      "cell_type": "markdown",
      "metadata": {
        "id": "R7yn5YLCYTbG",
        "colab_type": "text"
      },
      "source": [
        "# Tensorboard Config"
      ]
    },
    {
      "cell_type": "markdown",
      "metadata": {
        "id": "FV1DmspiYjEo",
        "colab_type": "text"
      },
      "source": [
        "**Unpack Ngrok**"
      ]
    },
    {
      "cell_type": "code",
      "metadata": {
        "id": "V3Uxr6BgYi1i",
        "colab_type": "code",
        "outputId": "e4b41143-47d2-4596-cb21-dd8b0a6d9bfe",
        "colab": {
          "base_uri": "https://localhost:8080/",
          "height": 246
        }
      },
      "source": [
        "!wget https://bin.equinox.io/c/4VmDzA7iaHb/ngrok-stable-linux-amd64.zip\n",
        "!unzip ngrok-stable-linux-amd64.zip"
      ],
      "execution_count": 0,
      "outputs": [
        {
          "output_type": "stream",
          "text": [
            "--2019-06-27 02:05:04--  https://bin.equinox.io/c/4VmDzA7iaHb/ngrok-stable-linux-amd64.zip\n",
            "Resolving bin.equinox.io (bin.equinox.io)... 34.226.180.131, 35.169.95.168, 35.172.177.65, ...\n",
            "Connecting to bin.equinox.io (bin.equinox.io)|34.226.180.131|:443... connected.\n",
            "HTTP request sent, awaiting response... 200 OK\n",
            "Length: 17556757 (17M) [application/octet-stream]\n",
            "Saving to: ‘ngrok-stable-linux-amd64.zip’\n",
            "\n",
            "ngrok-stable-linux- 100%[===================>]  16.74M  15.3MB/s    in 1.1s    \n",
            "\n",
            "2019-06-27 02:05:06 (15.3 MB/s) - ‘ngrok-stable-linux-amd64.zip’ saved [17556757/17556757]\n",
            "\n",
            "Archive:  ngrok-stable-linux-amd64.zip\n",
            "  inflating: ngrok                   \n"
          ],
          "name": "stdout"
        }
      ]
    },
    {
      "cell_type": "markdown",
      "metadata": {
        "id": "2bA0tIPjYrRG",
        "colab_type": "text"
      },
      "source": [
        "**Start Tensorboard**"
      ]
    },
    {
      "cell_type": "code",
      "metadata": {
        "id": "_a74fK8nYtcL",
        "colab_type": "code",
        "colab": {}
      },
      "source": [
        "LOG_DIR = './log'\n",
        "get_ipython().system_raw(\n",
        "    'tensorboard --logdir {} --host 0.0.0.0 --port 6006 &'\n",
        "    .format(LOG_DIR)\n",
        ")"
      ],
      "execution_count": 0,
      "outputs": []
    },
    {
      "cell_type": "markdown",
      "metadata": {
        "id": "QPOvkgiMYvqN",
        "colab_type": "text"
      },
      "source": [
        "**Start Ngrok**"
      ]
    },
    {
      "cell_type": "code",
      "metadata": {
        "id": "OaE0mGYGYyN6",
        "colab_type": "code",
        "colab": {}
      },
      "source": [
        "get_ipython().system_raw('./ngrok http 6006 &')"
      ],
      "execution_count": 0,
      "outputs": []
    },
    {
      "cell_type": "markdown",
      "metadata": {
        "id": "zPPuuWWYYzyG",
        "colab_type": "text"
      },
      "source": [
        "**Retrieve URL for Tensorboard**"
      ]
    },
    {
      "cell_type": "code",
      "metadata": {
        "id": "ugLgYN6IY2E-",
        "colab_type": "code",
        "outputId": "2c389bcb-378f-4e36-d669-5df6040423ef",
        "colab": {
          "base_uri": "https://localhost:8080/",
          "height": 34
        }
      },
      "source": [
        "#click on link generated to open Tensorboard\n",
        "! curl -s http://localhost:4040/api/tunnels | python3 -c \\\n",
        "    \"import sys, json; print(json.load(sys.stdin)['tunnels'][0]['public_url'])\""
      ],
      "execution_count": 0,
      "outputs": [
        {
          "output_type": "stream",
          "text": [
            "http://4375006d.ngrok.io\n"
          ],
          "name": "stdout"
        }
      ]
    },
    {
      "cell_type": "markdown",
      "metadata": {
        "id": "zc-Wf4vmvUdI",
        "colab_type": "text"
      },
      "source": [
        "**HDF5 Support for Model Checkpoints**"
      ]
    },
    {
      "cell_type": "code",
      "metadata": {
        "id": "Yy5NMrumvcau",
        "colab_type": "code",
        "colab": {}
      },
      "source": [
        "#!pip install h5py"
      ],
      "execution_count": 0,
      "outputs": []
    },
    {
      "cell_type": "code",
      "metadata": {
        "id": "0jkzgznTZPpA",
        "colab_type": "code",
        "outputId": "9f27eadf-36c8-43ae-abb2-9345502a2c79",
        "colab": {
          "base_uri": "https://localhost:8080/",
          "height": 34
        }
      },
      "source": [
        "#tensorflow specific libraries\n",
        "import tensorflow as tf\n",
        "from tensorflow.python.data import Dataset\n",
        "import keras\n",
        "from keras        import metrics, backend as k\n",
        "from keras.layers import Input, Dense, Activation, Flatten, Dropout, Conv1D, MaxPooling1D, BatchNormalization\n",
        "from keras.models import Sequential, load_model\n",
        "from keras.callbacks import TensorBoard, EarlyStopping, ModelCheckpoint\n",
        "from keras        import initializers\n",
        "\n",
        "#tf.enable_eager_execution() #tf.placeholder not compatible with eager execution, used for autoencoder\n",
        "\n",
        "tf.logging.set_verbosity(tf.logging.ERROR) #sets threshold for what is logged in tenserflow"
      ],
      "execution_count": 1,
      "outputs": [
        {
          "output_type": "stream",
          "text": [
            "Using TensorFlow backend.\n"
          ],
          "name": "stderr"
        }
      ]
    },
    {
      "cell_type": "markdown",
      "metadata": {
        "id": "qcZ9agXql3hR",
        "colab_type": "text"
      },
      "source": [
        "**Clear Tensorboard Records Directory**"
      ]
    },
    {
      "cell_type": "code",
      "metadata": {
        "id": "OhnG15Pzl2ZJ",
        "colab_type": "code",
        "colab": {}
      },
      "source": [
        "!rm -rf log"
      ],
      "execution_count": 0,
      "outputs": []
    },
    {
      "cell_type": "markdown",
      "metadata": {
        "id": "HGA1amJJC96t",
        "colab_type": "text"
      },
      "source": [
        "# Colaboratory Config"
      ]
    },
    {
      "cell_type": "markdown",
      "metadata": {
        "id": "2Hsq_B0sJ0tY",
        "colab_type": "text"
      },
      "source": [
        "**Import Libraries and Methods**"
      ]
    },
    {
      "cell_type": "code",
      "metadata": {
        "id": "MdPphJw7I02c",
        "colab_type": "code",
        "colab": {}
      },
      "source": [
        "from __future__ import division #import python 3 updates for floating point division\n",
        "from __future__ import print_function\n",
        "\n",
        "import os\n",
        "import math\n",
        "\n",
        "from IPython.display import Audio\n",
        "from scipy.io import wavfile\n",
        "from scipy import signal\n",
        "from matplotlib import cm\n",
        "from matplotlib import gridspec\n",
        "from matplotlib.colors import LogNorm\n",
        "from matplotlib.ticker import MaxNLocator\n",
        "import matplotlib.pyplot as plt\n",
        "\n",
        "import datetime\n",
        "import numpy as np\n",
        "from numpy import mean, sqrt, square, arange, fft\n",
        "import random\n",
        "import numpy.random \n",
        "from sklearn import metrics"
      ],
      "execution_count": 0,
      "outputs": []
    },
    {
      "cell_type": "markdown",
      "metadata": {
        "id": "dPECCOMaKKdx",
        "colab_type": "text"
      },
      "source": [
        "**Google Drive Configuration**"
      ]
    },
    {
      "cell_type": "code",
      "metadata": {
        "id": "dwU-h7GVR5nd",
        "colab_type": "code",
        "colab": {}
      },
      "source": [
        "#!google-drive-ocamlfuse -cc  #if need to clear virtual machine cache, when added files are put into google drive, time consuming so use carefully"
      ],
      "execution_count": 0,
      "outputs": []
    },
    {
      "cell_type": "code",
      "metadata": {
        "id": "E7csFSruKUS3",
        "colab_type": "code",
        "outputId": "97fdef64-f3ba-46bb-c319-736aba0db8b5",
        "colab": {
          "base_uri": "https://localhost:8080/",
          "height": 125
        }
      },
      "source": [
        "from google.colab import auth\n",
        "from google.colab import files\n",
        "\n",
        "#email Collins.AE6@gmail.com\n",
        "#pswd machine_learning610\n",
        "\n",
        "from google.colab import drive\n",
        "drive.mount('/content/drive', force_remount=True) \n",
        "\n",
        "#Upload data from GoogleDrive\n",
        "gDrive= '/content/drive/My Drive/Training_Database/gaussian_database_2/speech_single_talker_32/'\n",
        "#gDrive= '/content/drive/My Drive/Training_Database/gaussian_database_1/'"
      ],
      "execution_count": 3,
      "outputs": [
        {
          "output_type": "stream",
          "text": [
            "Go to this URL in a browser: https://accounts.google.com/o/oauth2/auth?client_id=947318989803-6bn6qk8qdgf4n4g3pfee6491hc0brc4i.apps.googleusercontent.com&redirect_uri=urn%3Aietf%3Awg%3Aoauth%3A2.0%3Aoob&scope=email%20https%3A%2F%2Fwww.googleapis.com%2Fauth%2Fdocs.test%20https%3A%2F%2Fwww.googleapis.com%2Fauth%2Fdrive%20https%3A%2F%2Fwww.googleapis.com%2Fauth%2Fdrive.photos.readonly%20https%3A%2F%2Fwww.googleapis.com%2Fauth%2Fpeopleapi.readonly&response_type=code\n",
            "\n",
            "Enter your authorization code:\n",
            "··········\n",
            "Mounted at /content/drive\n"
          ],
          "name": "stdout"
        }
      ]
    },
    {
      "cell_type": "markdown",
      "metadata": {
        "id": "Ihk-dkHWDEx1",
        "colab_type": "text"
      },
      "source": [
        "# Audio File Processing"
      ]
    },
    {
      "cell_type": "code",
      "metadata": {
        "id": "lXjfyCiYbdl5",
        "colab_type": "code",
        "outputId": "424e67dd-1acb-4359-ce44-727b3a2e70a5",
        "colab": {
          "base_uri": "https://localhost:8080/",
          "height": 351
        }
      },
      "source": [
        "#check for data\n",
        "!ls \"/content/drive/My Drive/Training_Database/gaussian_database_2/speech_single_talker_32\" #\"/content/drive/My Drive/Training_Database/Envelope/\""
      ],
      "execution_count": 0,
      "outputs": [
        {
          "output_type": "stream",
          "text": [
            " 20000_1_32_best_model.h5\n",
            " 20000_13_32_best.h5\n",
            " 20000_13_32_OG.h5\n",
            "'20 000 13 speakers 32 bit ep 89 MSE 02213 .h5'\n",
            "'20000 13_speakers_50Stride_00892MSE.h5'\n",
            "'20000 1_speaker_50stride_012MSE.h5'\n",
            "'20 000 1 speaker ep 72 MSE 01336 .h5'\n",
            " test_database_convolved_speech_100_13_32.npy\n",
            " test_database_convolved_speech_100_32.npy\n",
            " test_database_rt_random_100_13_32.npy\n",
            " test_database_rt_random_100_32.npy\n",
            " training_database_convolved_speech_20000_13_32.npy\n",
            " training_database_convolved_speech_20000_32.npy\n",
            " training_database_rt_random_20000_13_32.npy\n",
            " training_database_rt_random_20000_32.npy\n",
            " validation_database_convolved_speech_4000_13_32.npy\n",
            " validation_database_convolved_speech_4000_32.npy\n",
            " validation_database_rt_random_4000_13_32.npy\n",
            " validation_database_rt_random_4000_32.npy\n"
          ],
          "name": "stdout"
        }
      ]
    },
    {
      "cell_type": "markdown",
      "metadata": {
        "id": "k26uyzazKrTa",
        "colab_type": "text"
      },
      "source": [
        "**Load databases**"
      ]
    },
    {
      "cell_type": "code",
      "metadata": {
        "id": "OJ7CPoUCUbHc",
        "colab_type": "code",
        "colab": {}
      },
      "source": [
        "#load convolved speech databases\n",
        "#training database\n",
        "#training = gDrive+'training_database_convolved_speech_10000.npy'\n",
        "training = gDrive+'training_database_convolved_speech_20000_32.npy'\n",
        "training_database_convolved_speech = np.load(training)\n",
        "\n",
        "#load reverberation time database\n",
        "training_rt = gDrive+'training_database_rt_random_20000_32.npy'\n",
        "training_database_rt_random = np.load(training_rt)"
      ],
      "execution_count": 0,
      "outputs": []
    },
    {
      "cell_type": "code",
      "metadata": {
        "id": "n9CSyBO3RhR9",
        "colab_type": "code",
        "colab": {}
      },
      "source": [
        "#test_database_rt_random.shape"
      ],
      "execution_count": 0,
      "outputs": []
    },
    {
      "cell_type": "code",
      "metadata": {
        "id": "XpAPC2Gh38Gg",
        "colab_type": "code",
        "colab": {}
      },
      "source": [
        "#validation database\n",
        "validation = gDrive+'validation_database_convolved_speech_4000_32.npy'\n",
        "validation_database_convolved_speech = np.load(validation)\n",
        "\n",
        "validation_rt_random = gDrive+'validation_database_rt_random_4000_32.npy'\n",
        "validation_database_rt_random = np.load(validation_rt_random)"
      ],
      "execution_count": 0,
      "outputs": []
    },
    {
      "cell_type": "code",
      "metadata": {
        "id": "NNQDgT7I4CIr",
        "colab_type": "code",
        "colab": {}
      },
      "source": [
        "#test database\n",
        "test = gDrive+'test_database_convolved_speech_100_32.npy'\n",
        "test_database_convolved_speech = np.load(test)\n",
        "\n",
        "test_rt = gDrive+'test_database_rt_random_100_32.npy'\n",
        "test_database_rt_random = np.load(test_rt)"
      ],
      "execution_count": 0,
      "outputs": []
    },
    {
      "cell_type": "code",
      "metadata": {
        "id": "NNZqd-zAJ2Sh",
        "colab_type": "code",
        "colab": {}
      },
      "source": [
        "#test = gDrive+'training_database_convolved_speech_1500.npy'\n",
        "#test_database_convolved_speech = np.load(test)"
      ],
      "execution_count": 0,
      "outputs": []
    },
    {
      "cell_type": "code",
      "metadata": {
        "id": "EMETmg-E2SNY",
        "colab_type": "code",
        "colab": {}
      },
      "source": [
        "#load gaussian impulse response database\n",
        "#training_gaus = gDrive+'training_database_gaussian_impulse_1500.npy'\n",
        "#training_database_gaus = np.load(training_gaus)\n",
        "\n",
        "#validation_gaus = gDrive+'validation_database_gaussian_impulse_150.npy'\n",
        "#validation_database_gaus= np.load(validation_gaus)\n",
        "\n",
        "#test_gaus = gDrive+'test_database_gaussian_impulse_50.npy'\n",
        "#test_database_gaus = np.load(test_gaus)"
      ],
      "execution_count": 0,
      "outputs": []
    },
    {
      "cell_type": "code",
      "metadata": {
        "id": "BI6nxmf7wlHA",
        "colab_type": "code",
        "colab": {}
      },
      "source": [
        "fs = 16000\n",
        "#Audio(training_database_convolved_speech[25], rate=fs)"
      ],
      "execution_count": 0,
      "outputs": []
    },
    {
      "cell_type": "markdown",
      "metadata": {
        "id": "i3xj6l1C4xlh",
        "colab_type": "text"
      },
      "source": [
        "# Convolution Neural Network"
      ]
    },
    {
      "cell_type": "markdown",
      "metadata": {
        "id": "uRUT5tOSEnUH",
        "colab_type": "text"
      },
      "source": [
        "**Format Datasets For Convolution**"
      ]
    },
    {
      "cell_type": "code",
      "metadata": {
        "id": "uiVBgHPAayix",
        "colab_type": "code",
        "outputId": "c195dcdd-7bf6-4a7c-ecdf-db7c28b9786f",
        "colab": {
          "base_uri": "https://localhost:8080/",
          "height": 34
        }
      },
      "source": [
        "training_database_convolved_speech.shape"
      ],
      "execution_count": 0,
      "outputs": [
        {
          "output_type": "execute_result",
          "data": {
            "text/plain": [
              "(20000, 64000, 1)"
            ]
          },
          "metadata": {
            "tags": []
          },
          "execution_count": 11
        }
      ]
    },
    {
      "cell_type": "code",
      "metadata": {
        "id": "Zr-2lAhO6M0E",
        "colab_type": "code",
        "colab": {}
      },
      "source": [
        "number_of_features = 1 #feature number for CNN input, since univariant time series only 1 feature\n",
        "cnn_sequence_length = 4*16000 #timesteps for CNN nextwork per sample, map over each entire sample\n",
        "\n",
        "input_database = training_database_convolved_speech\n",
        "#input_database = input_database[:,:,np.newaxis]\n",
        "output_database = training_database_rt_random\n",
        "#output_database = training_database_gaus\n",
        "\n",
        "validation_input = validation_database_convolved_speech\n",
        "#validation_input = validation_input[:,:,np.newaxis]\n",
        "\n",
        "validation_output = validation_database_rt_random\n",
        "#validation_output = validation_database_gaus"
      ],
      "execution_count": 0,
      "outputs": []
    },
    {
      "cell_type": "code",
      "metadata": {
        "id": "6ED3Xk5LykTv",
        "colab_type": "code",
        "colab": {}
      },
      "source": [
        "test_input = test_database_convolved_speech\n",
        "#test_input = test_input[:,:,np.newaxis]"
      ],
      "execution_count": 0,
      "outputs": []
    },
    {
      "cell_type": "code",
      "metadata": {
        "id": "AYawJAwvhaSK",
        "colab_type": "code",
        "colab": {}
      },
      "source": [
        "#plt.plot(validation_input[0])"
      ],
      "execution_count": 0,
      "outputs": []
    },
    {
      "cell_type": "markdown",
      "metadata": {
        "id": "sJyIWlxWdPch",
        "colab_type": "text"
      },
      "source": [
        "# Neural Network Configuration"
      ]
    },
    {
      "cell_type": "markdown",
      "metadata": {
        "id": "DbJReDQqdEon",
        "colab_type": "text"
      },
      "source": [
        "**Declare Model Type**"
      ]
    },
    {
      "cell_type": "code",
      "metadata": {
        "id": "n0JKwHAHdGyf",
        "colab_type": "code",
        "colab": {}
      },
      "source": [
        "model = Sequential() #stacked layers of neural network"
      ],
      "execution_count": 0,
      "outputs": []
    },
    {
      "cell_type": "code",
      "metadata": {
        "id": "cnv6Igdf9NgA",
        "colab_type": "code",
        "colab": {}
      },
      "source": [
        "# This address identifies the TPU we'll use when configuring TensorFlow.\n",
        "#TPU_WORKER = 'grpc://' + os.environ['COLAB_TPU_ADDR']\n",
        "#tf.logging.set_verbosity(tf.logging.INFO)\n",
        "\n",
        "#tpu_model = tf.contrib.tpu.keras_to_tpu_model(\n",
        "#    model,\n",
        "#    strategy=tf.contrib.tpu.TPUDistributionStrategy(\n",
        "#        tf.contrib.cluster_resolver.TPUClusterResolver(TPU_WORKER)))"
      ],
      "execution_count": 0,
      "outputs": []
    },
    {
      "cell_type": "markdown",
      "metadata": {
        "id": "oW7J3O-U9JFu",
        "colab_type": "text"
      },
      "source": [
        "Convert Model To TPU model"
      ]
    },
    {
      "cell_type": "markdown",
      "metadata": {
        "id": "2_WcMMRya5IA",
        "colab_type": "text"
      },
      "source": [
        "**Convolution Layer #1**"
      ]
    },
    {
      "cell_type": "code",
      "metadata": {
        "id": "QFOL0kDDa8U5",
        "colab_type": "code",
        "colab": {}
      },
      "source": [
        "#adds a 1D convolutional layer, 1 dimension (temporal) on raw audio\n",
        "#config is 32 output chanels, \n",
        "#kernal size is 5x5 moving window, \n",
        "#strides in x and y directions (1,1)\n",
        "#rectilinear activation function, provide size of input to the layer, size only required for first \n",
        "#layer after that keras can calculate size of tensors\n",
        "#in keras don't need to declare weights or biases variables, done for you with program\n",
        "\n",
        "model.add(Conv1D(128, \n",
        "                 kernel_size=8,        #setup window size to be equal to strides for no overlap    \n",
        "                 strides=4,            #8 gives 25ms stride window with 16kHz sampling rate gives a window ever 400 points for a total of 240 windows.     \n",
        "                 activation='relu',           #rectilinear activation function\n",
        "                 kernel_initializer = initializers.he_normal(seed=None),  #used to keep variance between weights and input similar, truncated normal distribution centered at 0, seed used for random generator \n",
        "                 bias_initializer = initializers.Constant(0.2),\n",
        "                 input_shape=(cnn_sequence_length,number_of_features))) #training_data.shape[0]) input_shape = (img_x, img_y, 1)\n",
        "\n",
        "#model.add(BatchNormalization())\n",
        "#model.add(Activation='relu')"
      ],
      "execution_count": 0,
      "outputs": []
    },
    {
      "cell_type": "markdown",
      "metadata": {
        "id": "arSNoOHba-pH",
        "colab_type": "text"
      },
      "source": [
        "**Convolution Layer #2**"
      ]
    },
    {
      "cell_type": "code",
      "metadata": {
        "id": "piyMt1BXbAy5",
        "colab_type": "code",
        "colab": {}
      },
      "source": [
        "model.add(Conv1D(32, \n",
        "                 kernel_size=32,        #setup window size to be equal to strides for no overlap    \n",
        "                 strides=16,            #32 gives 25ms stride window with 16kHz sampling rate gives a window ever 400 points for a total of 240 windows.     \n",
        "                 activation='relu',\n",
        "                 kernel_initializer = initializers.he_normal(seed=None),  #used to keep variance between weights and input similar, truncated normal distribution centered at 0, seed used for random generator \n",
        "                 bias_initializer = initializers.Constant(0.2)))           #rectilinear activation function"
      ],
      "execution_count": 0,
      "outputs": []
    },
    {
      "cell_type": "markdown",
      "metadata": {
        "id": "A6ohnWLnbCKh",
        "colab_type": "text"
      },
      "source": [
        "**Convolution Layer #3**"
      ]
    },
    {
      "cell_type": "code",
      "metadata": {
        "id": "i5jEBoJcbEkf",
        "colab_type": "code",
        "colab": {}
      },
      "source": [
        "#model.add(Conv1D(32,                     #orginally 16\n",
        "#                 kernel_size=80,        #setup window size to be equal to strides for no overlap    \n",
        "#                 strides=80,            #25ms stride window with 16kHz sampling rate gives a window ever 400 points for a total of 240 windows.     \n",
        "#                 activation='relu'))          #rectilinear activation function\n",
        "                                              #shape is tracked in Keras after initializing so no need to specify input shape again.  \n",
        "#model.add(BatchNormalization())\n",
        "#model.add(Activation('relu'))"
      ],
      "execution_count": 0,
      "outputs": []
    },
    {
      "cell_type": "markdown",
      "metadata": {
        "id": "ef2m9B5LeRiy",
        "colab_type": "text"
      },
      "source": [
        "**Pooling Layer #2**"
      ]
    },
    {
      "cell_type": "code",
      "metadata": {
        "id": "sIlBbsNaeW-J",
        "colab_type": "code",
        "colab": {}
      },
      "source": [
        "model.add(MaxPooling1D(pool_size=(2), strides=(2))) #setup pooling layer, size of pooling in x, y dimensions and strides in x,y\n",
        "#model.add(Dropout(0.5))"
      ],
      "execution_count": 0,
      "outputs": []
    },
    {
      "cell_type": "markdown",
      "metadata": {
        "id": "eN139tKcfBkQ",
        "colab_type": "text"
      },
      "source": [
        "**Flatten Pooling Layers & Connect To Fully Connected Layer**"
      ]
    },
    {
      "cell_type": "code",
      "metadata": {
        "id": "3knKJYOCfKgi",
        "colab_type": "code",
        "colab": {}
      },
      "source": [
        "model.add(Flatten())"
      ],
      "execution_count": 0,
      "outputs": []
    },
    {
      "cell_type": "markdown",
      "metadata": {
        "id": "KJQ6INbZ3m-B",
        "colab_type": "text"
      },
      "source": [
        "**Inner Dense Layer #1**"
      ]
    },
    {
      "cell_type": "code",
      "metadata": {
        "id": "08ZhVIKt3pjk",
        "colab_type": "code",
        "colab": {}
      },
      "source": [
        "model.add(Dense(1000, \n",
        "                activation='relu',\n",
        "                kernel_initializer = initializers.he_normal(seed=None),  #used to keep variance between weights and input similar, truncated normal distribution centered at 0, seed used for random generator \n",
        "                bias_initializer = initializers.Constant(0.2))) #initalized to reduce likelihood of inactive ReLU activations\n",
        "model.add(Dropout(0.5))"
      ],
      "execution_count": 0,
      "outputs": []
    },
    {
      "cell_type": "markdown",
      "metadata": {
        "id": "SniG27ybodaI",
        "colab_type": "text"
      },
      "source": [
        ""
      ]
    },
    {
      "cell_type": "markdown",
      "metadata": {
        "id": "VrJDOmwWKxNv",
        "colab_type": "text"
      },
      "source": [
        "Inner Dense Layer #2"
      ]
    },
    {
      "cell_type": "code",
      "metadata": {
        "id": "ooqovSsZKz3B",
        "colab_type": "code",
        "colab": {}
      },
      "source": [
        "#model.add(Dense(1000, \n",
        "#                activation='relu',\n",
        "#                kernel_initializer = initializers.he_normal(seed=None),  #used to keep variance between weights and input similar, truncated normal distribution centered at 0, seed used for random generator \n",
        "#                bias_initializer = initializers.Constant(0.1))) #initalized to reduce likelihood of inactive ReLU activations\n",
        "#model.add(Dropout(0.2))"
      ],
      "execution_count": 0,
      "outputs": []
    },
    {
      "cell_type": "markdown",
      "metadata": {
        "id": "Cym4b_7Ifwry",
        "colab_type": "text"
      },
      "source": [
        "**Output Dense Layer**"
      ]
    },
    {
      "cell_type": "code",
      "metadata": {
        "id": "B5NZwOHzfymZ",
        "colab_type": "code",
        "colab": {}
      },
      "source": [
        "#RT model\n",
        "model.add(Dense(1000, \n",
        "                activation='relu',\n",
        "                kernel_initializer = initializers.he_normal(seed=None),  #used to keep variance between weights and input similar, truncated normal distribution centered at 0, seed used for random generator \n",
        "                bias_initializer = initializers.Constant(0.2))) #initalized to reduce likelihood of inactive ReLU activations\n",
        "#model.add(Dropout(0.2))\n",
        "#model.add(BatchNormalization())\n",
        "#model.add(Activation('relu')\n",
        "model.add(Dense(1, activation='linear'))#gives one linear output layer for regression, if classification typically Dense(num_classes, activation='softmax'))\n",
        "\n",
        "#IR model\n",
        "#model.add(Dense(100000, activation='relu'))\n",
        "#model.add(Dense(4*16000, activation='linear')) #gives one linear output layer for regression, if classification typically Dense(num_classes, activation='softmax'))"
      ],
      "execution_count": 0,
      "outputs": []
    },
    {
      "cell_type": "code",
      "metadata": {
        "id": "sZLAin-e3bFw",
        "colab_type": "code",
        "outputId": "385ef96d-a072-419e-f605-5908767d5c09",
        "colab": {
          "base_uri": "https://localhost:8080/",
          "height": 422
        }
      },
      "source": [
        "model.summary()"
      ],
      "execution_count": 0,
      "outputs": [
        {
          "output_type": "stream",
          "text": [
            "_________________________________________________________________\n",
            "Layer (type)                 Output Shape              Param #   \n",
            "=================================================================\n",
            "conv1d_1 (Conv1D)            (None, 15999, 128)        1152      \n",
            "_________________________________________________________________\n",
            "conv1d_2 (Conv1D)            (None, 998, 32)           131104    \n",
            "_________________________________________________________________\n",
            "max_pooling1d_1 (MaxPooling1 (None, 499, 32)           0         \n",
            "_________________________________________________________________\n",
            "flatten_1 (Flatten)          (None, 15968)             0         \n",
            "_________________________________________________________________\n",
            "dense_1 (Dense)              (None, 1000)              15969000  \n",
            "_________________________________________________________________\n",
            "dropout_1 (Dropout)          (None, 1000)              0         \n",
            "_________________________________________________________________\n",
            "dense_2 (Dense)              (None, 1000)              1001000   \n",
            "_________________________________________________________________\n",
            "dense_3 (Dense)              (None, 1)                 1001      \n",
            "=================================================================\n",
            "Total params: 17,103,257\n",
            "Trainable params: 17,103,257\n",
            "Non-trainable params: 0\n",
            "_________________________________________________________________\n"
          ],
          "name": "stdout"
        }
      ]
    },
    {
      "cell_type": "markdown",
      "metadata": {
        "id": "p02FtifBhJM8",
        "colab_type": "text"
      },
      "source": [
        "# Training Model"
      ]
    },
    {
      "cell_type": "markdown",
      "metadata": {
        "id": "3EsH9oQFbGZ5",
        "colab_type": "text"
      },
      "source": [
        "**Compile Network**"
      ]
    },
    {
      "cell_type": "code",
      "metadata": {
        "id": "nmwYProprGhs",
        "colab_type": "code",
        "colab": {}
      },
      "source": [
        "#K <- backend()\n",
        "\n",
        "#metric_cor <- function(y_true, y_pred) [\n",
        "#  n <- K.sum(K.ones_like(y_true))\n",
        "#  sum_x <- K.sum(y_true)\n",
        "#  sum_y <- K.sum(y_pred)\n",
        "#  sum_x_sq <- K.sum(K.square(y_true))\n",
        "#  sum_y_sq <- K.sum(K.square(y_pred))\n",
        "#  psum <- K.sum(y_true * y_pred)\n",
        "#  num <- psum - (sum_x * sum_y / n)\n",
        "#  den <- K.sqrt((sum_x_sq - K.square(sum_x) / n) *  (sum_y_sq - K.square(sum_y) / n))\n",
        "  \n",
        "#  num / den\n",
        "#]"
      ],
      "execution_count": 0,
      "outputs": []
    },
    {
      "cell_type": "code",
      "metadata": {
        "id": "M2p4LzdQbJ_6",
        "colab_type": "code",
        "colab": {}
      },
      "source": [
        "model.compile(loss=keras.losses.mean_squared_error, #defines loss function and optimizer, standard cross entropy for categorical class classification #categorical_crossentropy\n",
        "              optimizer=keras.optimizers.Adam(lr=0.00001), #default learning rate is 0.001\n",
        "              metrics=['mean_squared_error'])                       #specifies a metric that will be calculated during operation, ['accuracy'] useful for classification but not regression\n",
        "              #metrics= [\"corr\" = metric_corr])"
      ],
      "execution_count": 0,
      "outputs": []
    },
    {
      "cell_type": "markdown",
      "metadata": {
        "id": "AJtQl7O4yJwJ",
        "colab_type": "text"
      },
      "source": [
        "**Convert Model to TPU Format**"
      ]
    },
    {
      "cell_type": "code",
      "metadata": {
        "id": "7wjGh_ggyMA9",
        "colab_type": "code",
        "colab": {}
      },
      "source": [
        "#tpu_model = tf.contrib.tpu.keras_to_tpu_model(\n",
        "#    model,\n",
        "#    strategy=tf.contrib.tpu.TPUDistributionStrategy(\n",
        "#        tf.contrib.cluster_resolver.TPUClusterResolver(TF_MASTER)))\n",
        "\n",
        "#tpu_model.compile(\n",
        "#    optimizer=tf.train.AdamOptimizer(learning_rate=0.00001, ),\n",
        "#    metrics=['mean_squared_error']\n",
        "#)"
      ],
      "execution_count": 0,
      "outputs": []
    },
    {
      "cell_type": "markdown",
      "metadata": {
        "id": "28HV2yLelH-T",
        "colab_type": "text"
      },
      "source": [
        "**Early Stopping**"
      ]
    },
    {
      "cell_type": "code",
      "metadata": {
        "id": "qCrwdMvNlKyv",
        "colab_type": "code",
        "colab": {}
      },
      "source": [
        "# simple early stopping\n",
        "early_stopping = EarlyStopping(monitor='val_loss', mode='min', verbose=1, patience=10)"
      ],
      "execution_count": 0,
      "outputs": []
    },
    {
      "cell_type": "markdown",
      "metadata": {
        "id": "liJ6h82btf1m",
        "colab_type": "text"
      },
      "source": [
        "**Model Checkpoint**"
      ]
    },
    {
      "cell_type": "code",
      "metadata": {
        "id": "koJaMoGGtiSY",
        "colab_type": "code",
        "colab": {}
      },
      "source": [
        "model_checkpoint = ModelCheckpoint('best_model.h5', monitor='val_loss', mode='min', verbose=1, save_best_only=True)"
      ],
      "execution_count": 0,
      "outputs": []
    },
    {
      "cell_type": "code",
      "metadata": {
        "id": "7kwonDEuEJRw",
        "colab_type": "code",
        "colab": {}
      },
      "source": [
        "#for TPU\n",
        "\n",
        "#model.compile(\n",
        "#        optimizer=tf.train.Adam(learning_rate=0.0001), #Keras optimizer configuration with TPU still experimental so use TensorFlow for now as of 2019.04.19\n",
        "#        loss='mean_squared_error',\n",
        "#        metrics=['mse'])"
      ],
      "execution_count": 0,
      "outputs": []
    },
    {
      "cell_type": "markdown",
      "metadata": {
        "id": "eAGAUfH_D7mh",
        "colab_type": "text"
      },
      "source": [
        "**Hyperparameters**"
      ]
    },
    {
      "cell_type": "code",
      "metadata": {
        "id": "ECg-MLoiD-Hr",
        "colab_type": "code",
        "colab": {}
      },
      "source": [
        "batch_size = 16\n",
        "epochs = 100 #of iterations"
      ],
      "execution_count": 0,
      "outputs": []
    },
    {
      "cell_type": "markdown",
      "metadata": {
        "id": "z25oIEXlh_38",
        "colab_type": "text"
      },
      "source": [
        "**Tensorboard Parameter Config**"
      ]
    },
    {
      "cell_type": "code",
      "metadata": {
        "id": "NjZQR1Sxavvr",
        "colab_type": "code",
        "colab": {}
      },
      "source": [
        "tbCallBack = TensorBoard(log_dir='./log', histogram_freq=1,\n",
        "                         write_graph=True,\n",
        "                         write_grads=True,\n",
        "                         batch_size=batch_size)"
      ],
      "execution_count": 0,
      "outputs": []
    },
    {
      "cell_type": "markdown",
      "metadata": {
        "id": "6-OPyN--iFbG",
        "colab_type": "text"
      },
      "source": [
        "**Fit Model & Training Parameters**"
      ]
    },
    {
      "cell_type": "code",
      "metadata": {
        "id": "zdbeBzP-ax-O",
        "colab_type": "code",
        "colab": {}
      },
      "source": [
        "model.fit(x=input_database,                        #pass in all training data, next define batch, training epochs, verbose defines what info is printed, x = input, y = output you are training model to output\n",
        "          y=output_database,\n",
        "          batch_size=batch_size,                   #pass validation or test data to the fit function so Keras knows what data to test metric against when evaluate is run on model\n",
        "          epochs=epochs, \n",
        "          verbose=2,                               #show realtime processing, =0 for no updates, =1 for progress bar =2 one line per epoch\n",
        "          #validation_split=0.5,                    #fraction of input_database used for training vs validation\n",
        "          validation_data = (validation_input, validation_output),\n",
        "          callbacks=[tbCallBack, early_stopping, model_checkpoint])             #feeds model calculations to tensor board and activates early stopping"
      ],
      "execution_count": 0,
      "outputs": []
    },
    {
      "cell_type": "code",
      "metadata": {
        "id": "pbld773v50e5",
        "colab_type": "code",
        "colab": {}
      },
      "source": [
        ""
      ],
      "execution_count": 0,
      "outputs": []
    },
    {
      "cell_type": "code",
      "metadata": {
        "id": "3PWvv4cO9hFb",
        "colab_type": "code",
        "colab": {}
      },
      "source": [
        "#score = model.evaluate(output_database, , verbose=0)\n",
        "#print('Test loss:', score[0])\n",
        "#print('Test accuracy:', score[1])\n",
        "#plt.plot(range(1, 11), history.acc)\n",
        "#lt.xlabel('Epochs')\n",
        "#plt.ylabel('Accuracy')\n",
        "#plt.show()"
      ],
      "execution_count": 0,
      "outputs": []
    },
    {
      "cell_type": "markdown",
      "metadata": {
        "id": "IgHMzS3Lxnjl",
        "colab_type": "text"
      },
      "source": [
        "# Test Model"
      ]
    },
    {
      "cell_type": "markdown",
      "metadata": {
        "id": "CLN6JC__uUgT",
        "colab_type": "text"
      },
      "source": [
        "**Load Best Trained Model**"
      ]
    },
    {
      "cell_type": "code",
      "metadata": {
        "id": "bOTwIkHCuYY4",
        "colab_type": "code",
        "colab": {}
      },
      "source": [
        "#best_model = load_model('best_model.h5')"
      ],
      "execution_count": 0,
      "outputs": []
    },
    {
      "cell_type": "markdown",
      "metadata": {
        "id": "-TFetUA7DwU_",
        "colab_type": "text"
      },
      "source": [
        "**Reload Saved Model**"
      ]
    },
    {
      "cell_type": "code",
      "metadata": {
        "id": "zOV0Nu_bDzWy",
        "colab_type": "code",
        "colab": {}
      },
      "source": [
        "#test database\n",
        "test = gDrive+'test_database_convolved_speech_100_13_32.npy'\n",
        "test_database_convolved_speech = np.load(test)\n",
        "\n",
        "test_rt = gDrive+'test_database_rt_random_100_13_32.npy'\n",
        "test_database_rt_random = np.load(test_rt)\n",
        "\n",
        "test_input = test_database_convolved_speech\n",
        "\n",
        "b_model = gDrive+'20000 13_speakers_50Stride_00892MSE.h5'\n",
        "\n",
        "best_model = load_model(b_model)"
      ],
      "execution_count": 0,
      "outputs": []
    },
    {
      "cell_type": "markdown",
      "metadata": {
        "id": "qaHw_pAE-5pe",
        "colab_type": "text"
      },
      "source": [
        "**RT predictions with trained CNN**"
      ]
    },
    {
      "cell_type": "code",
      "metadata": {
        "id": "5Jee3_ln-M3y",
        "colab_type": "code",
        "colab": {
          "base_uri": "https://localhost:8080/",
          "height": 34
        },
        "outputId": "6e8ee71c-9deb-43df-b6c4-97aef58161c0"
      },
      "source": [
        "rt_predictions = best_model.predict(test_input, verbose=1)\n",
        "\n",
        "#rt_predictions = np.around(rt_predictions,1)\n",
        "\n",
        "#print(rt_predictions)"
      ],
      "execution_count": 42,
      "outputs": [
        {
          "output_type": "stream",
          "text": [
            "100/100 [==============================] - 0s 4ms/step\n"
          ],
          "name": "stdout"
        }
      ]
    },
    {
      "cell_type": "markdown",
      "metadata": {
        "id": "IgI2NBi3wi_M",
        "colab_type": "text"
      },
      "source": [
        ""
      ]
    },
    {
      "cell_type": "code",
      "metadata": {
        "id": "6QBzLW_203M8",
        "colab_type": "code",
        "colab": {}
      },
      "source": [
        "#length = 1500 #number RT predictions\n",
        "#number_of_rt = np.linspace(0,length,length)"
      ],
      "execution_count": 0,
      "outputs": []
    },
    {
      "cell_type": "markdown",
      "metadata": {
        "id": "5eFECw8HsRhF",
        "colab_type": "text"
      },
      "source": [
        ""
      ]
    },
    {
      "cell_type": "code",
      "metadata": {
        "id": "krnIEDv4AHKa",
        "colab_type": "code",
        "colab": {}
      },
      "source": [
        "#plt.scatter(number_of_rt,rt_predictions, label = 'RT_Predictions', color = 'red', alpha = 0.5)\n",
        "#plt.scatter(number_of_rt,test_database_rt_random, label = 'RT_answers', color = 'blue', alpha = 0.5)\n",
        "#plt.show()"
      ],
      "execution_count": 0,
      "outputs": []
    },
    {
      "cell_type": "code",
      "metadata": {
        "id": "8oXcowlJxrp2",
        "colab_type": "code",
        "colab": {}
      },
      "source": [
        "#from scipy.stats import pearsonr\n",
        "# calculate Pearson's correlation\n",
        "#corr, _ = pearsonr(rt_predictions, test_database_rt_random)\n",
        "#print('Pearsons correlation %.3f' % corr)\n",
        "\t\n",
        "#Pearsons correlation: 0.888"
      ],
      "execution_count": 0,
      "outputs": []
    },
    {
      "cell_type": "code",
      "metadata": {
        "id": "6GGX23sfXYX2",
        "colab_type": "code",
        "colab": {}
      },
      "source": [
        "rt_predictions_compressed = rt_predictions.flatten()  #format predictions for comparison to ground truth"
      ],
      "execution_count": 0,
      "outputs": []
    },
    {
      "cell_type": "code",
      "metadata": {
        "id": "_XKTM9fuZyJ5",
        "colab_type": "code",
        "colab": {}
      },
      "source": [
        "event_line= np.linspace(0.5,2,num=2)\n",
        "#event_line_1= np.linspace(0.5,1,num=2)\n",
        "#event_line_2= np.linspace(1,2,num=2)\n",
        "\n",
        "event_line_limen_positive = event_line*1.05 #event_line*1.05 #[0.53, 2.1] \n",
        "event_line_limen_negative = event_line*0.95 #event_line*0.95 #[0.47, 1.9]\n",
        "\n",
        "event_line_measurement_positive = event_line*1.10 #event_line*1.10 #[0.6, 2.2]\n",
        "#event_line_measurement_positive_2 = [1.1, 2.2] #event_line*1.10 #[0.6, 2.2]\n",
        "event_line_measurement_negative = event_line*0.90 #event_line*0.90 #[0.4, 1.8]\n",
        "#event_line_measurement_negative_2 = [0.9, 1.8] #event_line*0.90 #[0.4, 1.8]\n",
        "\n",
        "#event_line_limen = np.append(event_line_limen_positive, event_line_limen_negative)"
      ],
      "execution_count": 0,
      "outputs": []
    },
    {
      "cell_type": "code",
      "metadata": {
        "id": "X_qGIM5IXk3F",
        "colab_type": "code",
        "colab": {
          "base_uri": "https://localhost:8080/",
          "height": 283
        },
        "outputId": "91d1bc7b-565a-40ac-cb63-9eebbdc4e0c5"
      },
      "source": [
        "plt.scatter(test_database_rt_random,rt_predictions_compressed, label = 'Predicted RT', color= 'black', alpha = 0.5)\n",
        "plt.plot(event_line, event_line, label = 'Ground Truth RT', color = 'black')\n",
        "\n",
        "#difference limen 5% tolerance\n",
        "plt.plot(event_line, event_line_limen_positive, label = '5% JND', color = 'black', alpha = 0.5, linestyle ='dashed')\n",
        "plt.plot(event_line, event_line_limen_negative, color = 'black', alpha = 0.5, linestyle ='dashed')\n",
        "\n",
        "#measurement uncertainty 10% tolerance\n",
        "plt.plot(event_line, event_line_measurement_positive,  label = '10% Measurement Tolerance', color = 'black', linestyle ='-.')\n",
        "plt.plot(event_line, event_line_measurement_negative, color = 'black', linestyle ='-.')\n",
        "#plt.plot(event_line_2, event_line_measurement_positive_2, color = 'black', linestyle ='-.')\n",
        "#plt.plot(event_line_2, event_line_measurement_negative_2, color = 'black', linestyle ='-.')\n",
        "\n",
        "plt.xlim(0.4,2.1)\n",
        "plt.ylim(0.25,2.25)\n",
        "#display settings\n",
        "plt.ylabel('CNN Predicted RT60 [s]')\n",
        "plt.xlabel('Ground Truth RT60 [s]')\n",
        "plt.legend()\n",
        "\n",
        "#plt.grid()\n",
        "plt.show()"
      ],
      "execution_count": 45,
      "outputs": [
        {
          "output_type": "display_data",
          "data": {
            "image/png": "[encoded data removed]",
            "text/plain": [
              "<Figure size 432x288 with 1 Axes>"
            ]
          },
          "metadata": {
            "tags": []
          }
        }
      ]
    },
    {
      "cell_type": "code",
      "metadata": {
        "id": "o0gyWF71zloF",
        "colab_type": "code",
        "colab": {}
      },
      "source": [
        "error_inspect = rt_predictions_compressed-test_database_rt_random"
      ],
      "execution_count": 0,
      "outputs": []
    },
    {
      "cell_type": "code",
      "metadata": {
        "id": "ZHa870JM3Hse",
        "colab_type": "code",
        "colab": {}
      },
      "source": [
        "np.savetxt('error_inspect.txt', error_inspect, delimiter=',')\n",
        "#np.savetxt('rt_testset.txt', test_database_rt_random, delimiter=',')"
      ],
      "execution_count": 0,
      "outputs": []
    },
    {
      "cell_type": "code",
      "metadata": {
        "id": "UGtV06qphtpc",
        "colab_type": "code",
        "colab": {}
      },
      "source": [
        "files.download('error_inspect.txt')\n",
        "#files.download('rt_testset.txt')"
      ],
      "execution_count": 0,
      "outputs": []
    },
    {
      "cell_type": "code",
      "metadata": {
        "id": "eVU5Ihoh7PMv",
        "colab_type": "code",
        "colab": {
          "base_uri": "https://localhost:8080/",
          "height": 341
        },
        "outputId": "205a4cf3-b62f-4329-d005-1cd6ff8b8143"
      },
      "source": [
        "framerate = 16000 #match sample frequency of wav file [Hz]\n",
        "length = 4 #duration in [s]\n",
        "t = np.linspace(0,length,length*framerate)\n",
        "plt.plot(t,test_input[4], color='black')\n",
        "plt.ylabel('Normalized speech')\n",
        "plt.xlabel('Time [sec]')\n",
        "Audio(test_input[4,:,0],rate=16000)"
      ],
      "execution_count": 32,
      "outputs": [
        {
          "output_type": "execute_result",
          "data": {
            "text/html": [
              "\n",
              "                <audio controls=\"controls\" >\n",
              "                    <source src=\"data:audio/wav;base64,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\" type=\"audio/wav\" />\n",
              "                    Your browser does not support the audio element.\n",
              "                </audio>\n",
              "              "
            ],
            "text/plain": [
              "<IPython.lib.display.Audio object>"
            ]
          },
          "metadata": {
            "tags": []
          },
          "execution_count": 32
        },
        {
          "output_type": "display_data",
          "data": {
            "image/png": "[encoded data removed]",
            "text/plain": [
              "<Figure size 432x288 with 1 Axes>"
            ]
          },
          "metadata": {
            "tags": []
          }
        }
      ]
    },
    {
      "cell_type": "code",
      "metadata": {
        "id": "g58adE6O7Ci1",
        "colab_type": "code",
        "colab": {}
      },
      "source": [
        "Audio(test_input[35,:,0],rate=16000)"
      ],
      "execution_count": 0,
      "outputs": []
    },
    {
      "cell_type": "code",
      "metadata": {
        "id": "kKLZkvoF7nRg",
        "colab_type": "code",
        "colab": {}
      },
      "source": [
        "test_input.shape"
      ],
      "execution_count": 0,
      "outputs": []
    },
    {
      "cell_type": "code",
      "metadata": {
        "id": "-eBz3njQuDcQ",
        "colab_type": "code",
        "colab": {}
      },
      "source": [
        "#numpy.savetxt(\"raw data.csv\", rt_predictions_compressed, delimiter=\",\")\n",
        "#numpy.savetxt(\"ground truth data.csv\", prediction_database_rt_random, delimiter=\",\")"
      ],
      "execution_count": 0,
      "outputs": []
    },
    {
      "cell_type": "code",
      "metadata": {
        "id": "odPfnPMd2_uY",
        "colab_type": "code",
        "colab": {}
      },
      "source": [
        "bin_size = 0.1; min_edge = 0.5; max_edge = 2.5\n",
        "N = (max_edge-min_edge)/bin_size; Nplus1 = N + 1\n",
        "bin_list = np.linspace(min_edge, max_edge, Nplus1)\n",
        "\n",
        "plt.hist(rt_predictions, label = 'RT_Predictions', color = 'red', alpha = 0.5, bins=bin_list)\n",
        "plt.hist(test_database_rt_random, label = 'RT_answers', color = 'blue', alpha = 0.5, bins=bin_list)\n",
        "plt.show()"
      ],
      "execution_count": 0,
      "outputs": []
    },
    {
      "cell_type": "code",
      "metadata": {
        "id": "QXo6ZrFRRN7h",
        "colab_type": "code",
        "colab": {}
      },
      "source": [
        "error = rt_predictions_compressed - test_database_rt_random\n",
        "plt.hist(error, bins = 50)\n",
        "plt.xlabel(\"Prediction Error [RT60]\")\n",
        "_ = plt.ylabel(\"Count\")"
      ],
      "execution_count": 0,
      "outputs": []
    },
    {
      "cell_type": "code",
      "metadata": {
        "id": "XsDAWG0mz1E4",
        "colab_type": "code",
        "colab": {
          "base_uri": "https://localhost:8080/",
          "height": 301
        },
        "outputId": "f66e5efe-2b14-4cdd-d740-7b0fc968731b"
      },
      "source": [
        "error = -(1-rt_predictions_compressed/test_database_rt_random)*100\n",
        "limen_error = [-5, 5, -5, 5, -5, 5, -5, 5, -5, 5, -5, 5, -5, 5, -5, 5, -5, 5, -5, 5]\n",
        "measurement_error = [-10, 10, -10, 10, -10, 10, -10, 10, -10, 10, -10, 10, -10, 10, -10, 10, -10, 10, -10, 10]\n",
        "plt.hist(error, bins = 50, label = 'CNN Predictions')\n",
        "plt.hist(limen_error, bins = 10, color='black', label = '5% JND', alpha = 0.6)\n",
        "plt.hist(measurement_error, bins = 15, color='black', label = '10% Measurement Tolerance')\n",
        "plt.xlabel(\"CNN RT60 %Error\")\n",
        "plt.xlim(-70,70)\n",
        "plt.ylim(0,10)\n",
        "plt.ylabel(\"Count\")\n",
        "plt.legend(bbox_to_anchor=(1.05, 1), loc=2) #bbox_to_anchor=(1.05, 1), loc=2"
      ],
      "execution_count": 18,
      "outputs": [
        {
          "output_type": "execute_result",
          "data": {
            "text/plain": [
              "<matplotlib.legend.Legend at 0x7f33f8f72438>"
            ]
          },
          "metadata": {
            "tags": []
          },
          "execution_count": 18
        },
        {
          "output_type": "display_data",
          "data": {
            "image/png": "[encoded data removed]",
            "text/plain": [
              "<Figure size 432x288 with 1 Axes>"
            ]
          },
          "metadata": {
            "tags": []
          }
        }
      ]
    },
    {
      "cell_type": "code",
      "metadata": {
        "id": "I29oZNj0JMU9",
        "colab_type": "code",
        "colab": {}
      },
      "source": [
        "#plt.hist(rt_predictions-prediction_database_rt_random, label = 'Delta')\n",
        "#plt.show()"
      ],
      "execution_count": 0,
      "outputs": []
    },
    {
      "cell_type": "code",
      "metadata": {
        "id": "-2JlsVP59zMO",
        "colab_type": "code",
        "colab": {}
      },
      "source": [
        "tf.keras.backend.clear_session()\n",
        "k.clear_session()\n",
        "del model"
      ],
      "execution_count": 0,
      "outputs": []
    },
    {
      "cell_type": "markdown",
      "metadata": {
        "id": "InsU1FkMhpf1",
        "colab_type": "text"
      },
      "source": [
        "# Filter Visualizations"
      ]
    },
    {
      "cell_type": "code",
      "metadata": {
        "id": "PGWf9eDLht46",
        "colab_type": "code",
        "colab": {}
      },
      "source": [
        "from keras.utils import plot_model\n",
        "plot_model(best_model, to_file='model.png')"
      ],
      "execution_count": 0,
      "outputs": []
    },
    {
      "cell_type": "code",
      "metadata": {
        "id": "gOQdnbHslKNo",
        "colab_type": "code",
        "colab": {}
      },
      "source": [
        "weights = best_model.get_weights()"
      ],
      "execution_count": 0,
      "outputs": []
    },
    {
      "cell_type": "code",
      "metadata": {
        "id": "nJ609BF_mARp",
        "colab_type": "code",
        "colab": {}
      },
      "source": [
        ""
      ],
      "execution_count": 0,
      "outputs": []
    },
    {
      "cell_type": "code",
      "metadata": {
        "id": "Pcw4wyzblUx-",
        "colab_type": "code",
        "colab": {}
      },
      "source": [
        "weights_array = np.asarray(weights)"
      ],
      "execution_count": 0,
      "outputs": []
    },
    {
      "cell_type": "code",
      "metadata": {
        "id": "tr1yJwTYl2zr",
        "colab_type": "code",
        "colab": {}
      },
      "source": [
        "weights_array[0].shape"
      ],
      "execution_count": 0,
      "outputs": []
    },
    {
      "cell_type": "code",
      "metadata": {
        "id": "3JhlhbOioqr_",
        "colab_type": "code",
        "colab": {}
      },
      "source": [
        "weights_first_layer = weights_array[0]"
      ],
      "execution_count": 0,
      "outputs": []
    },
    {
      "cell_type": "code",
      "metadata": {
        "id": "fq2reN-poub0",
        "colab_type": "code",
        "colab": {}
      },
      "source": [
        "weights_first_layer[0,0,:]"
      ],
      "execution_count": 0,
      "outputs": []
    },
    {
      "cell_type": "code",
      "metadata": {
        "id": "f_ZgY23yovVi",
        "colab_type": "code",
        "colab": {}
      },
      "source": [
        ""
      ],
      "execution_count": 0,
      "outputs": []
    },
    {
      "cell_type": "code",
      "metadata": {
        "id": "2c2xNmGrlOzJ",
        "colab_type": "code",
        "colab": {}
      },
      "source": [
        "plt.plot(weights_first_layer[0,0,:], color='black')"
      ],
      "execution_count": 0,
      "outputs": []
    },
    {
      "cell_type": "code",
      "metadata": {
        "id": "FJbKmVWepjg_",
        "colab_type": "code",
        "colab": {}
      },
      "source": [
        "t = np.arange(16)\n",
        "real = np.fft.fft(weights_first_layer[0,0,:])\n",
        "freq = np.fftfreq(t.shape[-1])\n",
        "plt.plot(freq, real.real)"
      ],
      "execution_count": 0,
      "outputs": []
    },
    {
      "cell_type": "code",
      "metadata": {
        "id": "ty8MNIUxsYSp",
        "colab_type": "code",
        "colab": {}
      },
      "source": [
        "import scipy.fftpack\n",
        "# Number of samplepoints\n",
        "N = 600\n",
        "# sample spacing\n",
        "T = 1.0 / 800.0\n",
        "#x = np.linspace(0.0, N*T, N)\n",
        "y = weights_first_layer[0,0,:]\n",
        "yf = scipy.fftpack.fft(y)\n",
        "#xf = np.linspace(0.0, 1.0/(2.0*T), N/2)\n",
        "plt.plot(yf.real)\n",
        "#fig, ax = plt.subplots()\n",
        "#ax.plot(xf, 2.0/N * np.abs(yf[:N//2]))\n",
        "plt.show()"
      ],
      "execution_count": 0,
      "outputs": []
    },
    {
      "cell_type": "code",
      "metadata": {
        "id": "hkhyOiOeq5MU",
        "colab_type": "code",
        "colab": {}
      },
      "source": [
        "#norm = BoundaryNorm(levels, ncolors=cmap.N, clip=True)\n",
        "dB_spectrum = 20*np.log10(Sxx/np.max(Sxx))\n",
        "cmap = plt.get_cmap('viridis') #winter, summer, grey, hot\n",
        "plt.pcolormesh(t, f, dB_spectrum, cmap=cmap, vmin=-100) # norm=LogNorm(vmin=Sxx.min(),vmax=Sxx.max() Sxx.min() 10**-8\n",
        "plt.colorbar()\n",
        "plt.ylabel('Frequency [Hz]')\n",
        "plt.xlabel('Time [s]')\n",
        "#plt.ylim(50,8000)\n",
        "#plt.xlim(0,4)\n",
        "plt.show()"
      ],
      "execution_count": 0,
      "outputs": []
    }
  ]
}